{
 "cells": [
  {
   "cell_type": "markdown",
   "metadata": {},
   "source": [
    "# Montador de Grade de Matérias e Professores"
   ]
  },
  {
   "cell_type": "markdown",
   "metadata": {},
   "source": [
    "Proposta: notebook que utiliza algoritmos evolutivos para distribuir matérias entre professores seguindo os seguintes pré-requisitos:\n",
    "- Professores que vão dar cada matéria de acordo com o quanto eles querem dar"
   ]
  },
  {
   "cell_type": "markdown",
   "metadata": {},
   "source": [
    "Cada indivíduo será representado por uma matriz de inteiros de 2x30 posições, da seguinte forma:\n",
    "- linha 1: id da matéria: inteiro\n",
    "- linha 2: id do professor: inteiro\n",
    "\n",
    "- colunas: as primeiras 6, por exemplo, serão: 1 segunda 8-10h, 2 segunda 10-12h, 3 segunda 14-16h, segunda 16h-18h/17-19h, segunda 19h-21h, segunda 21h-23h, terça 8h-10h e por aí vai"
   ]
  },
  {
   "cell_type": "code",
   "execution_count": null,
   "metadata": {},
   "outputs": [],
   "source": [
    "import GA #biblioteca de algoritmos genéticos"
   ]
  },
  {
   "cell_type": "markdown",
   "metadata": {},
   "source": [
    "Decide quem são os professores"
   ]
  },
  {
   "cell_type": "code",
   "execution_count": null,
   "metadata": {},
   "outputs": [],
   "source": [
    "professores = {\n",
    "    1 : \"João\",\n",
    "    2: \"Maria\",\n",
    "    3: \"Pedro\",\n",
    "    4: \"Afonso\",\n",
    "    5: \"Sabrina\",\n",
    "    6: \"Alan\",\n",
    "    7: \"Thomas\"\n",
    "}"
   ]
  },
  {
   "cell_type": "markdown",
   "metadata": {},
   "source": [
    "Decide quais são as matérias disponíveis para este quadrimestre"
   ]
  },
  {
   "cell_type": "code",
   "execution_count": null,
   "metadata": {},
   "outputs": [],
   "source": [
    "materias = {\n",
    "    1: \"Teoria dos Grafos\",\n",
    "    2: \"Sistemas Inteligentes\",\n",
    "    3: \"Inteligência Artificial\",\n",
    "    4: \"Arquitetura de Computadores\",\n",
    "    5: \"Análise de Algoritmos\",\n",
    "    6: \"Programação Estruturada\",\n",
    "    7: \"Matemática Discreta\",\n",
    "    8: \"Computação Gráfica\",\n",
    "    9: \"Lógica Básica\",\n",
    "    10: \"Sistemas Digitais\",\n",
    "    11: \"Circuitos Digitais\",\n",
    "    12: \"Programação Orientada a Objetos\"\n",
    "}"
   ]
  },
  {
   "cell_type": "markdown",
   "metadata": {},
   "source": [
    "Declara função que calculará o fitness do horário escolhido"
   ]
  },
  {
   "cell_type": "code",
   "execution_count": null,
   "metadata": {},
   "outputs": [],
   "source": []
  },
  {
   "cell_type": "markdown",
   "metadata": {},
   "source": [
    "Declara função que gera grades aleatórias"
   ]
  },
  {
   "cell_type": "code",
   "execution_count": null,
   "metadata": {},
   "outputs": [],
   "source": []
  },
  {
   "cell_type": "markdown",
   "metadata": {},
   "source": [
    "Declara função que faz o crossover de 2 grades pai e mãe"
   ]
  },
  {
   "cell_type": "code",
   "execution_count": null,
   "metadata": {},
   "outputs": [],
   "source": []
  }
 ],
 "metadata": {
  "kernelspec": {
   "display_name": "Python 3",
   "language": "python",
   "name": "python3"
  },
  "language_info": {
   "codemirror_mode": {
    "name": "ipython",
    "version": 3
   },
   "file_extension": ".py",
   "mimetype": "text/x-python",
   "name": "python",
   "nbconvert_exporter": "python",
   "pygments_lexer": "ipython3",
   "version": "3.7.0"
  }
 },
 "nbformat": 4,
 "nbformat_minor": 2
}
