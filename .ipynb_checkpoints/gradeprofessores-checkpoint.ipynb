{
 "cells": [
  {
   "cell_type": "markdown",
   "metadata": {},
   "source": [
    "# Montador de Grade de Matérias e Professores"
   ]
  },
  {
   "cell_type": "markdown",
   "metadata": {},
   "source": [
    "Proposta: notebook que utiliza algoritmos evolutivos para distribuir matérias entre professores seguindo os seguintes pré-requisitos:\n",
    "- Professores que vão dar cada matéria de acordo com o quanto eles querem dar"
   ]
  },
  {
   "cell_type": "markdown",
   "metadata": {},
   "source": [
    "As matérias serão um vetor de objetos do tipo Materia que será fornecido pelo usuário, inicialmente sem os professores setados.\n",
    "O algoritmo deve ser capaz de alocar os professores disponíveis nestas matérias cumprindo o requisito mínimo de que os horários das matérias para um mesmo professor não devem coincidir."
   ]
  },
  {
   "cell_type": "markdown",
   "metadata": {},
   "source": [
    "Faz as importações necessárias"
   ]
  },
  {
   "cell_type": "code",
   "execution_count": 21,
   "metadata": {},
   "outputs": [],
   "source": [
    "from random import randint # numeros aleatorios para gerar testes"
   ]
  },
  {
   "cell_type": "markdown",
   "metadata": {},
   "source": [
    "Declara a classe das matérias"
   ]
  },
  {
   "cell_type": "code",
   "execution_count": 5,
   "metadata": {},
   "outputs": [],
   "source": [
    "class Materia:\n",
    "    \"\"\"Uma classe de materias\"\"\""
   ]
  },
  {
   "cell_type": "markdown",
   "metadata": {},
   "source": [
    "Decide quem são os professores"
   ]
  },
  {
   "cell_type": "code",
   "execution_count": null,
   "metadata": {},
   "outputs": [],
   "source": [
    "professores = {\n",
    "    1 : \"João\",\n",
    "    2: \"Maria\",\n",
    "    3: \"Pedro\",\n",
    "    4: \"Afonso\",\n",
    "    5: \"Sabrina\",\n",
    "    6: \"Alan\",\n",
    "    7: \"Thomas\"\n",
    "}"
   ]
  },
  {
   "cell_type": "markdown",
   "metadata": {},
   "source": [
    "Decide quais são as matérias disponíveis para este quadrimestre"
   ]
  },
  {
   "cell_type": "code",
   "execution_count": 12,
   "metadata": {},
   "outputs": [],
   "source": [
    "materias = {\n",
    "    1: \"Teoria dos Grafos\",\n",
    "    2: \"Sistemas Inteligentes\",\n",
    "    3: \"Inteligência Artificial\",\n",
    "    4: \"Arquitetura de Computadores\",\n",
    "    5: \"Análise de Algoritmos\",\n",
    "    6: \"Programação Estruturada\",\n",
    "    7: \"Matemática Discreta\",\n",
    "    8: \"Computação Gráfica\",\n",
    "    9: \"Lógica Básica\",\n",
    "    10: \"Sistemas Digitais\",\n",
    "    11: \"Circuitos Digitais\",\n",
    "    12: \"Programação Orientada a Objetos\"\n",
    "}"
   ]
  },
  {
   "cell_type": "markdown",
   "metadata": {},
   "source": [
    "Decide quais são os horários disponíveis"
   ]
  },
  {
   "cell_type": "code",
   "execution_count": 6,
   "metadata": {},
   "outputs": [],
   "source": [
    "horarios = {\n",
    "    1: \"Segunda 8h-10h Semanal 1\",\n",
    "    2: \"Segunda 10h-12h Semanal 1\",\n",
    "    3: \"Segunda 14h-16h Semanal 1\",\n",
    "    4: \"Segunda 16h-18h Semanal 1\",\n",
    "    5: \"Segunda 19h-21h Semanal 1\",\n",
    "    6: \"Segunda 21h-23h Semanal 1\",\n",
    "    \n",
    "    7: \"Segunda 8h-10h Semanal 2\",\n",
    "    8: \"Segunda 10h-12h Semanal 2\",\n",
    "    9: \"Segunda 14h-16h Semanal 2\",\n",
    "    10: \"Segunda 16h-18h Semanal 2\",\n",
    "    11: \"Segunda 19h-21h Semanal 2\",\n",
    "    12: \"Segunda 21h-23h Semanal 2\",\n",
    "    \n",
    "    \n",
    "    13: \"Terça 8h-10h Semanal 1\",\n",
    "    14: \"Terça 10h-12h Semanal 1\",\n",
    "    15: \"Terça 14h-16h Semanal 1\",\n",
    "    16: \"Terça 16h-18h Semanal 1\",\n",
    "    17: \"Terça 19h-21h Semanal 1\",\n",
    "    18: \"Terça 21h-23h Semanal 1\",\n",
    "    \n",
    "    19: \"Terça 8h-10h Semanal 2\",\n",
    "    20: \"Terça 10h-12h Semanal 2\",\n",
    "    21: \"Terça 14h-16h Semanal 2\",\n",
    "    22: \"Terça 16h-18h Semanal 2\",\n",
    "    23: \"Terça 19h-21h Semanal 2\",\n",
    "    24: \"Terça 21h-23h Semanal 2\",\n",
    "    \n",
    "    \n",
    "    25: \"Quarta 8h-10h Semanal 1\",\n",
    "    26: \"Quarta 10h-12h Semanal 1\",\n",
    "    27: \"Quarta 14h-16h Semanal 1\",\n",
    "    28: \"Quarta 16h-18h Semanal 1\",\n",
    "    29: \"Quarta 19h-21h Semanal 1\",\n",
    "    30: \"Quarta 21h-23h Semanal 1\",\n",
    "    \n",
    "    31: \"Quarta 8h-10h Semanal 2\",\n",
    "    32: \"Quarta 10h-12h Semanal 2\",\n",
    "    33: \"Quarta 14h-16h Semanal 2\",\n",
    "    34: \"Quarta 16h-18h Semanal 2\",\n",
    "    35: \"Quarta 19h-21h Semanal 2\",\n",
    "    36: \"Quarta 21h-23h Semanal 2\",\n",
    "    \n",
    "    \n",
    "    37: \"Quinta 8h-10h Semanal 1\",\n",
    "    38: \"Quinta 10h-12h Semanal 1\",\n",
    "    39: \"Quinta 14h-16h Semanal 1\",\n",
    "    40: \"Quinta 16h-18h Semanal 1\",\n",
    "    41: \"Quinta 19h-21h Semanal 1\",\n",
    "    42: \"Quinta 21h-23h Semanal 1\",\n",
    "    \n",
    "    43: \"Quinta 8h-10h Semanal 2\",\n",
    "    44: \"Quinta 10h-12h Semanal 2\",\n",
    "    45: \"Quinta 14h-16h Semanal 2\",\n",
    "    46: \"Quinta 16h-18h Semanal 2\",\n",
    "    47: \"Quinta 19h-21h Semanal 2\",\n",
    "    48: \"Quinta 21h-23h Semanal 2\",\n",
    "    \n",
    "    \n",
    "    49: \"Sexta 8h-10h Semanal 1\",\n",
    "    50: \"Sexta 10h-12h Semanal 1\",\n",
    "    51: \"Sexta 14h-16h Semanal 1\",\n",
    "    52: \"Sexta 16h-18h Semanal 1\",\n",
    "    53: \"Sexta 19h-21h Semanal 1\",\n",
    "    54: \"Sexta 21h-23h Semanal 1\",\n",
    "    \n",
    "    55: \"Sexta 8h-10h Semanal 2\",\n",
    "    56: \"Sexta 10h-12h Semanal 2\",\n",
    "    57: \"Sexta 14h-16h Semanal 2\",\n",
    "    58: \"Sexta 16h-18h Semanal 2\",\n",
    "    59: \"Sexta 19h-21h Semanal 2\",\n",
    "    60: \"Sexta 21h-23h Semanal 2\",\n",
    "    \n",
    "    \n",
    "    61: \"Sabado 8h-10h Semanal 1\",\n",
    "    62: \"Sabado 10h-12h Semanal 1\",\n",
    "    63: \"Sabado 14h-16h Semanal 1\",\n",
    "    64: \"Sabado 16h-18h Semanal 1\",\n",
    "    \n",
    "    65: \"Sabado 8h-10h Semanal 2\",\n",
    "    66: \"Sabado 10h-12h Semanal 2\",\n",
    "    67: \"Sabado 14h-16h Semanal 2\",\n",
    "    68: \"Sabado 16h-18h Semanal 2\",\n",
    "    \n",
    "}"
   ]
  },
  {
   "cell_type": "markdown",
   "metadata": {},
   "source": [
    "Gera um input com uma grade aleatória, como se o usuário que tivesse escolhido"
   ]
  },
  {
   "cell_type": "code",
   "execution_count": 23,
   "metadata": {},
   "outputs": [],
   "source": [
    "grade = []\n",
    "\n",
    "# gera 30 matérias aleatórias\n",
    "for i in range(30):\n",
    "    # instancia uma nova matéria\n",
    "    m = Materia()\n",
    "    \n",
    "    # escolhe uma matéria aleatoriamente\n",
    "    m.materia = randint(1, len(materias) + 1)\n",
    "    \n",
    "    m.horarios = []\n",
    "    \n",
    "    # escolhe os horários que a matéria será ofertada aleatóriamente,\n",
    "    # com no mínimo 2 créditos e no máximo 6\n",
    "    for j in range(randint(2, 7)):\n",
    "       m.horarios.append(randint(1, len(horarios))) \n",
    "    \n",
    "    # adiciona a matéria gerada automaticamente ao vetor de matérias\n",
    "    grade.append(m)"
   ]
  },
  {
   "cell_type": "markdown",
   "metadata": {},
   "source": [
    "#### Função Fitness"
   ]
  },
  {
   "cell_type": "markdown",
   "metadata": {},
   "source": [
    "Declara função que calculará o fitness do horário escolhido"
   ]
  },
  {
   "cell_type": "code",
   "execution_count": null,
   "metadata": {},
   "outputs": [],
   "source": []
  },
  {
   "cell_type": "markdown",
   "metadata": {},
   "source": [
    "#### Função crossover"
   ]
  },
  {
   "cell_type": "markdown",
   "metadata": {},
   "source": [
    "Declara função que faz o crossover de 2 grades pai e mãe"
   ]
  },
  {
   "cell_type": "code",
   "execution_count": null,
   "metadata": {},
   "outputs": [],
   "source": []
  }
 ],
 "metadata": {
  "kernelspec": {
   "display_name": "Python 3",
   "language": "python",
   "name": "python3"
  },
  "language_info": {
   "codemirror_mode": {
    "name": "ipython",
    "version": 3
   },
   "file_extension": ".py",
   "mimetype": "text/x-python",
   "name": "python",
   "nbconvert_exporter": "python",
   "pygments_lexer": "ipython3",
   "version": "3.7.0"
  }
 },
 "nbformat": 4,
 "nbformat_minor": 2
}
